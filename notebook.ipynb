{
 "cells": [
  {
   "cell_type": "code",
   "execution_count": 108,
   "id": "5d37761e",
   "metadata": {},
   "outputs": [],
   "source": [
    "import pandas as pd\n",
    "import numpy as np\n",
    "from sklearn.model_selection import train_test_split\n",
    "import matplotlib.pyplot as plt\n",
    "from IPython.display import display\n",
    "from sklearn.metrics import mutual_info_score\n",
    "from sklearn.feature_extraction import DictVectorizer\n",
    "from sklearn.linear_model import LogisticRegression\n",
    "from sklearn.metrics import roc_auc_score\n",
    "from sklearn.tree import DecisionTreeClassifier\n",
    "import seaborn as sns\n",
    "from sklearn.ensemble import RandomForestClassifier"
   ]
  },
  {
   "cell_type": "markdown",
   "id": "efbd74a3",
   "metadata": {},
   "source": [
    "## 1) Data Preparation"
   ]
  },
  {
   "cell_type": "code",
   "execution_count": 2,
   "id": "2a3539b6",
   "metadata": {},
   "outputs": [],
   "source": [
    "col_names = [\n",
    "    'age',\n",
    "    'workclass', #(eg. private, local-gov, never-worked…)\n",
    "    'fnlwgt', #(the number of people the census believes the entry represents)\n",
    "    'education',\n",
    "    'education-num',\n",
    "    'marital-status',\n",
    "    'occupation',\n",
    "    'relationship',\n",
    "    'race',\n",
    "    'sex',\n",
    "    'capital-gain',\n",
    "    'capital-loss',\n",
    "    'hours-per-week',\n",
    "    'native country',\n",
    "    'label' \n",
    "    ]"
   ]
  },
  {
   "cell_type": "code",
   "execution_count": 3,
   "id": "95a30c71",
   "metadata": {},
   "outputs": [],
   "source": [
    "df_full_train = pd.read_csv('./data/adult.data',names=col_names)\n",
    "df_full_test = pd.read_csv('./data/adult.test',names=col_names)"
   ]
  },
  {
   "cell_type": "code",
   "execution_count": 4,
   "id": "eae3e82b",
   "metadata": {},
   "outputs": [],
   "source": [
    "df_full_test = df_full_test.iloc[1:].reset_index(drop=True)"
   ]
  },
  {
   "cell_type": "code",
   "execution_count": 5,
   "id": "1ead2e64",
   "metadata": {},
   "outputs": [],
   "source": [
    "categorical_columns = list(df_full_train.dtypes[df_full_train.dtypes == 'object'].index)\n",
    "\n",
    "for c in categorical_columns:\n",
    "    df_full_train[c] = df_full_train[c].str.lower().str.replace(' ', '_')\n",
    "    df_full_test[c] = df_full_test[c].str.lower().str.replace(' ', '_')"
   ]
  },
  {
   "cell_type": "code",
   "execution_count": 6,
   "id": "a9a1e252",
   "metadata": {},
   "outputs": [],
   "source": [
    "df_full_train['label'] = df_full_train['label'].map({'_<=50k':0, '_>50k':1})\n",
    "df_full_train = df_full_train.rename({'label': 'income_over_50k'}, axis=1) "
   ]
  },
  {
   "cell_type": "code",
   "execution_count": 7,
   "id": "c512060b",
   "metadata": {},
   "outputs": [],
   "source": [
    "df_full_test['label'] = df_full_test['label'].map({'_<=50k.':0, '_>50k.':1})\n",
    "df_full_test = df_full_test.rename({'label': 'income_over_50k'}, axis=1) "
   ]
  },
  {
   "cell_type": "markdown",
   "id": "341391fc",
   "metadata": {},
   "source": [
    "## 2) Validation Framework"
   ]
  },
  {
   "cell_type": "code",
   "execution_count": 8,
   "id": "e5118a57",
   "metadata": {},
   "outputs": [],
   "source": [
    "df_val, df_test = train_test_split(df_full_test, test_size=0.5, random_state=1)"
   ]
  },
  {
   "cell_type": "code",
   "execution_count": 9,
   "id": "06054ed6",
   "metadata": {},
   "outputs": [
    {
     "data": {
      "text/plain": [
       "(32561, 8140, 8141)"
      ]
     },
     "execution_count": 9,
     "metadata": {},
     "output_type": "execute_result"
    }
   ],
   "source": [
    "len(df_full_train), len(df_val), len(df_test)"
   ]
  },
  {
   "cell_type": "code",
   "execution_count": 10,
   "id": "5bbb36d3",
   "metadata": {},
   "outputs": [],
   "source": [
    "df_train = df_full_train.reset_index(drop=True)\n",
    "df_val = df_val.reset_index(drop=True)\n",
    "df_test = df_test.reset_index(drop=True)"
   ]
  },
  {
   "cell_type": "code",
   "execution_count": 11,
   "id": "bd390d9f",
   "metadata": {},
   "outputs": [],
   "source": [
    "y_train = df_train.income_over_50k.values\n",
    "y_val = df_val.income_over_50k.values\n",
    "y_test = df_test.income_over_50k.values\n",
    "\n",
    "del df_train['income_over_50k']\n",
    "del df_val['income_over_50k']\n",
    "del df_test['income_over_50k']"
   ]
  },
  {
   "cell_type": "markdown",
   "id": "6903b697",
   "metadata": {},
   "source": [
    "\n",
    "## 3) EDA\n",
    "- Missing values\n",
    "- Target values distribution\n",
    "- Numerical features distributions\n",
    "- Categorical features distributions"
   ]
  },
  {
   "cell_type": "code",
   "execution_count": 12,
   "id": "130c219d",
   "metadata": {},
   "outputs": [
    {
     "data": {
      "text/plain": [
       "age                0\n",
       "workclass          0\n",
       "fnlwgt             0\n",
       "education          0\n",
       "education-num      0\n",
       "marital-status     0\n",
       "occupation         0\n",
       "relationship       0\n",
       "race               0\n",
       "sex                0\n",
       "capital-gain       0\n",
       "capital-loss       0\n",
       "hours-per-week     0\n",
       "native country     0\n",
       "income_over_50k    0\n",
       "dtype: int64"
      ]
     },
     "execution_count": 12,
     "metadata": {},
     "output_type": "execute_result"
    }
   ],
   "source": [
    "df_full_train.isna().sum()"
   ]
  },
  {
   "cell_type": "code",
   "execution_count": 13,
   "id": "a83ca040",
   "metadata": {},
   "outputs": [
    {
     "data": {
      "text/plain": [
       "0    0.75919\n",
       "1    0.24081\n",
       "Name: income_over_50k, dtype: float64"
      ]
     },
     "execution_count": 13,
     "metadata": {},
     "output_type": "execute_result"
    }
   ],
   "source": [
    "df_full_train['income_over_50k'].value_counts(normalize=True)"
   ]
  },
  {
   "cell_type": "code",
   "execution_count": 14,
   "id": "af1f534f",
   "metadata": {},
   "outputs": [
    {
     "data": {
      "text/plain": [
       "Index(['age', 'workclass', 'fnlwgt', 'education', 'education-num',\n",
       "       'marital-status', 'occupation', 'relationship', 'race', 'sex',\n",
       "       'capital-gain', 'capital-loss', 'hours-per-week', 'native country',\n",
       "       'income_over_50k'],\n",
       "      dtype='object')"
      ]
     },
     "execution_count": 14,
     "metadata": {},
     "output_type": "execute_result"
    }
   ],
   "source": [
    "df_full_train.columns"
   ]
  },
  {
   "cell_type": "code",
   "execution_count": 15,
   "id": "c4302629",
   "metadata": {},
   "outputs": [],
   "source": [
    "numerical = ['age', \n",
    "             'fnlwgt', \n",
    "             'education-num',\n",
    "             'capital-gain',\n",
    "             'capital-loss',\n",
    "             'hours-per-week' \n",
    "            ]"
   ]
  },
  {
   "cell_type": "code",
   "execution_count": 16,
   "id": "25563d8b",
   "metadata": {},
   "outputs": [
    {
     "data": {
      "image/png": "[encoded data removed]",
      "text/plain": [
       "<Figure size 1080x1080 with 6 Axes>"
      ]
     },
     "metadata": {
      "needs_background": "light"
     },
     "output_type": "display_data"
    }
   ],
   "source": [
    "fig, axes = plt.subplots(2, 3, figsize=(15, 15))\n",
    "ax1, ax2, ax3, ax4, ax5, ax6 = axes.flatten()\n",
    "\n",
    "axes_ = ax1, ax2, ax3, ax4, ax5, ax6\n",
    "\n",
    "for ax, feature in zip(axes_ , numerical):\n",
    "    \n",
    "    ax.hist(df_full_train[feature], bins = 50)    \n",
    "    ax.set_title(feature)\n",
    "\n",
    "plt.show()"
   ]
  },
  {
   "cell_type": "code",
   "execution_count": 17,
   "id": "4b961b21",
   "metadata": {},
   "outputs": [],
   "source": [
    "categorical = ['workclass', \n",
    "               'education', \n",
    "               'marital-status', \n",
    "               'occupation',\n",
    "               'relationship', \n",
    "               'race', \n",
    "               'sex', \n",
    "               'native country'\n",
    "              ]"
   ]
  },
  {
   "cell_type": "code",
   "execution_count": 18,
   "id": "46392da7",
   "metadata": {},
   "outputs": [
    {
     "data": {
      "text/plain": [
       "workclass          9\n",
       "education         16\n",
       "marital-status     7\n",
       "occupation        15\n",
       "relationship       6\n",
       "race               5\n",
       "sex                2\n",
       "native country    42\n",
       "dtype: int64"
      ]
     },
     "execution_count": 18,
     "metadata": {},
     "output_type": "execute_result"
    }
   ],
   "source": [
    "df_full_train[categorical].nunique()"
   ]
  },
  {
   "cell_type": "code",
   "execution_count": 19,
   "id": "423b1c21",
   "metadata": {},
   "outputs": [
    {
     "data": {
      "image/png": "[encoded data removed]",
      "text/plain": [
       "<Figure size 1080x1080 with 9 Axes>"
      ]
     },
     "metadata": {
      "needs_background": "light"
     },
     "output_type": "display_data"
    }
   ],
   "source": [
    "fig, axes = plt.subplots(3, 3, figsize=(15, 15))\n",
    "ax1, ax2, ax3, ax4, ax5, ax6, ax7, ax8, ax9 = axes.flatten()\n",
    "\n",
    "axes_ = ax1, ax2, ax3, ax4, ax5, ax6, ax7, ax8\n",
    "\n",
    "for ax, feature in zip(axes_ , categorical):\n",
    "    \n",
    "    ax.hist(df_full_train[feature],bins=30)    \n",
    "    ax.set_title(feature)\n",
    "    ax.tick_params(axis='x', labelrotation=45)\n",
    "    # ax.set_xticklabels(rotation=45, ha='right')\n",
    "\n",
    "plt.show()"
   ]
  },
  {
   "cell_type": "markdown",
   "id": "f3242282",
   "metadata": {},
   "source": [
    "## 4) Feature importance\n",
    "- High income rate (rate of incomes over 50k)\n",
    "- High income probability ratio\n",
    "- Mutual Information\n",
    "- Correlation"
   ]
  },
  {
   "cell_type": "code",
   "execution_count": 20,
   "id": "ccb3c12e",
   "metadata": {},
   "outputs": [
    {
     "data": {
      "text/plain": [
       "0.2408095574460244"
      ]
     },
     "execution_count": 20,
     "metadata": {},
     "output_type": "execute_result"
    }
   ],
   "source": [
    "global_high_income_rate = df_full_train.income_over_50k.mean()\n",
    "global_high_income_rate"
   ]
  },
  {
   "cell_type": "code",
   "execution_count": 21,
   "id": "084fc22b",
   "metadata": {},
   "outputs": [
    {
     "data": {
      "text/plain": [
       "0.3057365764111978"
      ]
     },
     "execution_count": 21,
     "metadata": {},
     "output_type": "execute_result"
    }
   ],
   "source": [
    "high_income_male = df_full_train[df_full_train.sex == '_male'].income_over_50k.mean()\n",
    "high_income_male"
   ]
  },
  {
   "cell_type": "code",
   "execution_count": 22,
   "id": "6c8eea0f",
   "metadata": {},
   "outputs": [
    {
     "data": {
      "text/plain": [
       "0.10946058861758426"
      ]
     },
     "execution_count": 22,
     "metadata": {},
     "output_type": "execute_result"
    }
   ],
   "source": [
    "high_income_female = df_full_train[df_full_train.sex == '_female'].income_over_50k.mean()\n",
    "high_income_female"
   ]
  },
  {
   "cell_type": "code",
   "execution_count": 23,
   "id": "d5c331fe",
   "metadata": {},
   "outputs": [
    {
     "data": {
      "text/plain": [
       "-0.06492701896517339"
      ]
     },
     "execution_count": 23,
     "metadata": {},
     "output_type": "execute_result"
    }
   ],
   "source": [
    "global_high_income_rate - high_income_male"
   ]
  },
  {
   "cell_type": "code",
   "execution_count": 24,
   "id": "1b6fdb9f",
   "metadata": {},
   "outputs": [
    {
     "data": {
      "text/plain": [
       "0.13134896882844013"
      ]
     },
     "execution_count": 24,
     "metadata": {},
     "output_type": "execute_result"
    }
   ],
   "source": [
    "global_high_income_rate - high_income_female"
   ]
  },
  {
   "cell_type": "code",
   "execution_count": 25,
   "id": "f31f726e",
   "metadata": {},
   "outputs": [
    {
     "data": {
      "text/plain": [
       "1.2696197761159305"
      ]
     },
     "execution_count": 25,
     "metadata": {},
     "output_type": "execute_result"
    }
   ],
   "source": [
    "high_income_male / global_high_income_rate"
   ]
  },
  {
   "cell_type": "code",
   "execution_count": 26,
   "id": "c841c5b2",
   "metadata": {},
   "outputs": [
    {
     "data": {
      "text/plain": [
       "0.4545525093708916"
      ]
     },
     "execution_count": 26,
     "metadata": {},
     "output_type": "execute_result"
    }
   ],
   "source": [
    "high_income_female / global_high_income_rate"
   ]
  },
  {
   "cell_type": "code",
   "execution_count": 27,
   "id": "c0ecdc4c",
   "metadata": {},
   "outputs": [
    {
     "name": "stdout",
     "output_type": "stream",
     "text": [
      "workclass\n"
     ]
    },
    {
     "data": {
      "text/html": [
       "<div>\n",
       "<style scoped>\n",
       "    .dataframe tbody tr th:only-of-type {\n",
       "        vertical-align: middle;\n",
       "    }\n",
       "\n",
       "    .dataframe tbody tr th {\n",
       "        vertical-align: top;\n",
       "    }\n",
       "\n",
       "    .dataframe thead th {\n",
       "        text-align: right;\n",
       "    }\n",
       "</style>\n",
       "<table border=\"1\" class=\"dataframe\">\n",
       "  <thead>\n",
       "    <tr style=\"text-align: right;\">\n",
       "      <th></th>\n",
       "      <th>mean</th>\n",
       "      <th>count</th>\n",
       "      <th>high_income_probability_difference</th>\n",
       "      <th>high_income_probability_ratio</th>\n",
       "    </tr>\n",
       "    <tr>\n",
       "      <th>workclass</th>\n",
       "      <th></th>\n",
       "      <th></th>\n",
       "      <th></th>\n",
       "      <th></th>\n",
       "    </tr>\n",
       "  </thead>\n",
       "  <tbody>\n",
       "    <tr>\n",
       "      <th>_?</th>\n",
       "      <td>0.104031</td>\n",
       "      <td>1836</td>\n",
       "      <td>-0.136779</td>\n",
       "      <td>0.432003</td>\n",
       "    </tr>\n",
       "    <tr>\n",
       "      <th>_federal-gov</th>\n",
       "      <td>0.386458</td>\n",
       "      <td>960</td>\n",
       "      <td>0.145649</td>\n",
       "      <td>1.604830</td>\n",
       "    </tr>\n",
       "    <tr>\n",
       "      <th>_local-gov</th>\n",
       "      <td>0.294792</td>\n",
       "      <td>2093</td>\n",
       "      <td>0.053983</td>\n",
       "      <td>1.224171</td>\n",
       "    </tr>\n",
       "    <tr>\n",
       "      <th>_never-worked</th>\n",
       "      <td>0.000000</td>\n",
       "      <td>7</td>\n",
       "      <td>-0.240810</td>\n",
       "      <td>0.000000</td>\n",
       "    </tr>\n",
       "    <tr>\n",
       "      <th>_private</th>\n",
       "      <td>0.218673</td>\n",
       "      <td>22696</td>\n",
       "      <td>-0.022137</td>\n",
       "      <td>0.908074</td>\n",
       "    </tr>\n",
       "    <tr>\n",
       "      <th>_self-emp-inc</th>\n",
       "      <td>0.557348</td>\n",
       "      <td>1116</td>\n",
       "      <td>0.316538</td>\n",
       "      <td>2.314475</td>\n",
       "    </tr>\n",
       "    <tr>\n",
       "      <th>_self-emp-not-inc</th>\n",
       "      <td>0.284927</td>\n",
       "      <td>2541</td>\n",
       "      <td>0.044118</td>\n",
       "      <td>1.183206</td>\n",
       "    </tr>\n",
       "    <tr>\n",
       "      <th>_state-gov</th>\n",
       "      <td>0.271957</td>\n",
       "      <td>1298</td>\n",
       "      <td>0.031147</td>\n",
       "      <td>1.129344</td>\n",
       "    </tr>\n",
       "    <tr>\n",
       "      <th>_without-pay</th>\n",
       "      <td>0.000000</td>\n",
       "      <td>14</td>\n",
       "      <td>-0.240810</td>\n",
       "      <td>0.000000</td>\n",
       "    </tr>\n",
       "  </tbody>\n",
       "</table>\n",
       "</div>"
      ],
      "text/plain": [
       "                       mean  count  high_income_probability_difference  \\\n",
       "workclass                                                                \n",
       "_?                 0.104031   1836                           -0.136779   \n",
       "_federal-gov       0.386458    960                            0.145649   \n",
       "_local-gov         0.294792   2093                            0.053983   \n",
       "_never-worked      0.000000      7                           -0.240810   \n",
       "_private           0.218673  22696                           -0.022137   \n",
       "_self-emp-inc      0.557348   1116                            0.316538   \n",
       "_self-emp-not-inc  0.284927   2541                            0.044118   \n",
       "_state-gov         0.271957   1298                            0.031147   \n",
       "_without-pay       0.000000     14                           -0.240810   \n",
       "\n",
       "                   high_income_probability_ratio  \n",
       "workclass                                         \n",
       "_?                                      0.432003  \n",
       "_federal-gov                            1.604830  \n",
       "_local-gov                              1.224171  \n",
       "_never-worked                           0.000000  \n",
       "_private                                0.908074  \n",
       "_self-emp-inc                           2.314475  \n",
       "_self-emp-not-inc                       1.183206  \n",
       "_state-gov                              1.129344  \n",
       "_without-pay                            0.000000  "
      ]
     },
     "metadata": {},
     "output_type": "display_data"
    },
    {
     "name": "stdout",
     "output_type": "stream",
     "text": [
      "\n",
      "\n",
      "education\n"
     ]
    },
    {
     "data": {
      "text/html": [
       "<div>\n",
       "<style scoped>\n",
       "    .dataframe tbody tr th:only-of-type {\n",
       "        vertical-align: middle;\n",
       "    }\n",
       "\n",
       "    .dataframe tbody tr th {\n",
       "        vertical-align: top;\n",
       "    }\n",
       "\n",
       "    .dataframe thead th {\n",
       "        text-align: right;\n",
       "    }\n",
       "</style>\n",
       "<table border=\"1\" class=\"dataframe\">\n",
       "  <thead>\n",
       "    <tr style=\"text-align: right;\">\n",
       "      <th></th>\n",
       "      <th>mean</th>\n",
       "      <th>count</th>\n",
       "      <th>high_income_probability_difference</th>\n",
       "      <th>high_income_probability_ratio</th>\n",
       "    </tr>\n",
       "    <tr>\n",
       "      <th>education</th>\n",
       "      <th></th>\n",
       "      <th></th>\n",
       "      <th></th>\n",
       "      <th></th>\n",
       "    </tr>\n",
       "  </thead>\n",
       "  <tbody>\n",
       "    <tr>\n",
       "      <th>_10th</th>\n",
       "      <td>0.066452</td>\n",
       "      <td>933</td>\n",
       "      <td>-0.174357</td>\n",
       "      <td>0.275954</td>\n",
       "    </tr>\n",
       "    <tr>\n",
       "      <th>_11th</th>\n",
       "      <td>0.051064</td>\n",
       "      <td>1175</td>\n",
       "      <td>-0.189746</td>\n",
       "      <td>0.212051</td>\n",
       "    </tr>\n",
       "    <tr>\n",
       "      <th>_12th</th>\n",
       "      <td>0.076212</td>\n",
       "      <td>433</td>\n",
       "      <td>-0.164597</td>\n",
       "      <td>0.316484</td>\n",
       "    </tr>\n",
       "    <tr>\n",
       "      <th>_1st-4th</th>\n",
       "      <td>0.035714</td>\n",
       "      <td>168</td>\n",
       "      <td>-0.205095</td>\n",
       "      <td>0.148309</td>\n",
       "    </tr>\n",
       "    <tr>\n",
       "      <th>_5th-6th</th>\n",
       "      <td>0.048048</td>\n",
       "      <td>333</td>\n",
       "      <td>-0.192762</td>\n",
       "      <td>0.199527</td>\n",
       "    </tr>\n",
       "    <tr>\n",
       "      <th>_7th-8th</th>\n",
       "      <td>0.061920</td>\n",
       "      <td>646</td>\n",
       "      <td>-0.178890</td>\n",
       "      <td>0.257131</td>\n",
       "    </tr>\n",
       "    <tr>\n",
       "      <th>_9th</th>\n",
       "      <td>0.052529</td>\n",
       "      <td>514</td>\n",
       "      <td>-0.188280</td>\n",
       "      <td>0.218136</td>\n",
       "    </tr>\n",
       "    <tr>\n",
       "      <th>_assoc-acdm</th>\n",
       "      <td>0.248360</td>\n",
       "      <td>1067</td>\n",
       "      <td>0.007550</td>\n",
       "      <td>1.031354</td>\n",
       "    </tr>\n",
       "    <tr>\n",
       "      <th>_assoc-voc</th>\n",
       "      <td>0.261216</td>\n",
       "      <td>1382</td>\n",
       "      <td>0.020406</td>\n",
       "      <td>1.084739</td>\n",
       "    </tr>\n",
       "    <tr>\n",
       "      <th>_bachelors</th>\n",
       "      <td>0.414753</td>\n",
       "      <td>5355</td>\n",
       "      <td>0.173943</td>\n",
       "      <td>1.722326</td>\n",
       "    </tr>\n",
       "    <tr>\n",
       "      <th>_doctorate</th>\n",
       "      <td>0.740920</td>\n",
       "      <td>413</td>\n",
       "      <td>0.500111</td>\n",
       "      <td>3.076789</td>\n",
       "    </tr>\n",
       "    <tr>\n",
       "      <th>_hs-grad</th>\n",
       "      <td>0.159509</td>\n",
       "      <td>10501</td>\n",
       "      <td>-0.081301</td>\n",
       "      <td>0.662385</td>\n",
       "    </tr>\n",
       "    <tr>\n",
       "      <th>_masters</th>\n",
       "      <td>0.556587</td>\n",
       "      <td>1723</td>\n",
       "      <td>0.315778</td>\n",
       "      <td>2.311318</td>\n",
       "    </tr>\n",
       "    <tr>\n",
       "      <th>_preschool</th>\n",
       "      <td>0.000000</td>\n",
       "      <td>51</td>\n",
       "      <td>-0.240810</td>\n",
       "      <td>0.000000</td>\n",
       "    </tr>\n",
       "    <tr>\n",
       "      <th>_prof-school</th>\n",
       "      <td>0.734375</td>\n",
       "      <td>576</td>\n",
       "      <td>0.493565</td>\n",
       "      <td>3.049609</td>\n",
       "    </tr>\n",
       "    <tr>\n",
       "      <th>_some-college</th>\n",
       "      <td>0.190235</td>\n",
       "      <td>7291</td>\n",
       "      <td>-0.050575</td>\n",
       "      <td>0.789979</td>\n",
       "    </tr>\n",
       "  </tbody>\n",
       "</table>\n",
       "</div>"
      ],
      "text/plain": [
       "                   mean  count  high_income_probability_difference  \\\n",
       "education                                                            \n",
       "_10th          0.066452    933                           -0.174357   \n",
       "_11th          0.051064   1175                           -0.189746   \n",
       "_12th          0.076212    433                           -0.164597   \n",
       "_1st-4th       0.035714    168                           -0.205095   \n",
       "_5th-6th       0.048048    333                           -0.192762   \n",
       "_7th-8th       0.061920    646                           -0.178890   \n",
       "_9th           0.052529    514                           -0.188280   \n",
       "_assoc-acdm    0.248360   1067                            0.007550   \n",
       "_assoc-voc     0.261216   1382                            0.020406   \n",
       "_bachelors     0.414753   5355                            0.173943   \n",
       "_doctorate     0.740920    413                            0.500111   \n",
       "_hs-grad       0.159509  10501                           -0.081301   \n",
       "_masters       0.556587   1723                            0.315778   \n",
       "_preschool     0.000000     51                           -0.240810   \n",
       "_prof-school   0.734375    576                            0.493565   \n",
       "_some-college  0.190235   7291                           -0.050575   \n",
       "\n",
       "               high_income_probability_ratio  \n",
       "education                                     \n",
       "_10th                               0.275954  \n",
       "_11th                               0.212051  \n",
       "_12th                               0.316484  \n",
       "_1st-4th                            0.148309  \n",
       "_5th-6th                            0.199527  \n",
       "_7th-8th                            0.257131  \n",
       "_9th                                0.218136  \n",
       "_assoc-acdm                         1.031354  \n",
       "_assoc-voc                          1.084739  \n",
       "_bachelors                          1.722326  \n",
       "_doctorate                          3.076789  \n",
       "_hs-grad                            0.662385  \n",
       "_masters                            2.311318  \n",
       "_preschool                          0.000000  \n",
       "_prof-school                        3.049609  \n",
       "_some-college                       0.789979  "
      ]
     },
     "metadata": {},
     "output_type": "display_data"
    },
    {
     "name": "stdout",
     "output_type": "stream",
     "text": [
      "\n",
      "\n",
      "marital-status\n"
     ]
    },
    {
     "data": {
      "text/html": [
       "<div>\n",
       "<style scoped>\n",
       "    .dataframe tbody tr th:only-of-type {\n",
       "        vertical-align: middle;\n",
       "    }\n",
       "\n",
       "    .dataframe tbody tr th {\n",
       "        vertical-align: top;\n",
       "    }\n",
       "\n",
       "    .dataframe thead th {\n",
       "        text-align: right;\n",
       "    }\n",
       "</style>\n",
       "<table border=\"1\" class=\"dataframe\">\n",
       "  <thead>\n",
       "    <tr style=\"text-align: right;\">\n",
       "      <th></th>\n",
       "      <th>mean</th>\n",
       "      <th>count</th>\n",
       "      <th>high_income_probability_difference</th>\n",
       "      <th>high_income_probability_ratio</th>\n",
       "    </tr>\n",
       "    <tr>\n",
       "      <th>marital-status</th>\n",
       "      <th></th>\n",
       "      <th></th>\n",
       "      <th></th>\n",
       "      <th></th>\n",
       "    </tr>\n",
       "  </thead>\n",
       "  <tbody>\n",
       "    <tr>\n",
       "      <th>_divorced</th>\n",
       "      <td>0.104209</td>\n",
       "      <td>4443</td>\n",
       "      <td>-0.136601</td>\n",
       "      <td>0.432744</td>\n",
       "    </tr>\n",
       "    <tr>\n",
       "      <th>_married-af-spouse</th>\n",
       "      <td>0.434783</td>\n",
       "      <td>23</td>\n",
       "      <td>0.193973</td>\n",
       "      <td>1.805504</td>\n",
       "    </tr>\n",
       "    <tr>\n",
       "      <th>_married-civ-spouse</th>\n",
       "      <td>0.446848</td>\n",
       "      <td>14976</td>\n",
       "      <td>0.206039</td>\n",
       "      <td>1.855609</td>\n",
       "    </tr>\n",
       "    <tr>\n",
       "      <th>_married-spouse-absent</th>\n",
       "      <td>0.081340</td>\n",
       "      <td>418</td>\n",
       "      <td>-0.159470</td>\n",
       "      <td>0.337776</td>\n",
       "    </tr>\n",
       "    <tr>\n",
       "      <th>_never-married</th>\n",
       "      <td>0.045961</td>\n",
       "      <td>10683</td>\n",
       "      <td>-0.194849</td>\n",
       "      <td>0.190860</td>\n",
       "    </tr>\n",
       "    <tr>\n",
       "      <th>_separated</th>\n",
       "      <td>0.064390</td>\n",
       "      <td>1025</td>\n",
       "      <td>-0.176419</td>\n",
       "      <td>0.267391</td>\n",
       "    </tr>\n",
       "    <tr>\n",
       "      <th>_widowed</th>\n",
       "      <td>0.085599</td>\n",
       "      <td>993</td>\n",
       "      <td>-0.155210</td>\n",
       "      <td>0.355464</td>\n",
       "    </tr>\n",
       "  </tbody>\n",
       "</table>\n",
       "</div>"
      ],
      "text/plain": [
       "                            mean  count  high_income_probability_difference  \\\n",
       "marital-status                                                                \n",
       "_divorced               0.104209   4443                           -0.136601   \n",
       "_married-af-spouse      0.434783     23                            0.193973   \n",
       "_married-civ-spouse     0.446848  14976                            0.206039   \n",
       "_married-spouse-absent  0.081340    418                           -0.159470   \n",
       "_never-married          0.045961  10683                           -0.194849   \n",
       "_separated              0.064390   1025                           -0.176419   \n",
       "_widowed                0.085599    993                           -0.155210   \n",
       "\n",
       "                        high_income_probability_ratio  \n",
       "marital-status                                         \n",
       "_divorced                                    0.432744  \n",
       "_married-af-spouse                           1.805504  \n",
       "_married-civ-spouse                          1.855609  \n",
       "_married-spouse-absent                       0.337776  \n",
       "_never-married                               0.190860  \n",
       "_separated                                   0.267391  \n",
       "_widowed                                     0.355464  "
      ]
     },
     "metadata": {},
     "output_type": "display_data"
    },
    {
     "name": "stdout",
     "output_type": "stream",
     "text": [
      "\n",
      "\n",
      "occupation\n"
     ]
    },
    {
     "data": {
      "text/html": [
       "<div>\n",
       "<style scoped>\n",
       "    .dataframe tbody tr th:only-of-type {\n",
       "        vertical-align: middle;\n",
       "    }\n",
       "\n",
       "    .dataframe tbody tr th {\n",
       "        vertical-align: top;\n",
       "    }\n",
       "\n",
       "    .dataframe thead th {\n",
       "        text-align: right;\n",
       "    }\n",
       "</style>\n",
       "<table border=\"1\" class=\"dataframe\">\n",
       "  <thead>\n",
       "    <tr style=\"text-align: right;\">\n",
       "      <th></th>\n",
       "      <th>mean</th>\n",
       "      <th>count</th>\n",
       "      <th>high_income_probability_difference</th>\n",
       "      <th>high_income_probability_ratio</th>\n",
       "    </tr>\n",
       "    <tr>\n",
       "      <th>occupation</th>\n",
       "      <th></th>\n",
       "      <th></th>\n",
       "      <th></th>\n",
       "      <th></th>\n",
       "    </tr>\n",
       "  </thead>\n",
       "  <tbody>\n",
       "    <tr>\n",
       "      <th>_?</th>\n",
       "      <td>0.103635</td>\n",
       "      <td>1843</td>\n",
       "      <td>-0.137174</td>\n",
       "      <td>0.430362</td>\n",
       "    </tr>\n",
       "    <tr>\n",
       "      <th>_adm-clerical</th>\n",
       "      <td>0.134483</td>\n",
       "      <td>3770</td>\n",
       "      <td>-0.106327</td>\n",
       "      <td>0.558461</td>\n",
       "    </tr>\n",
       "    <tr>\n",
       "      <th>_armed-forces</th>\n",
       "      <td>0.111111</td>\n",
       "      <td>9</td>\n",
       "      <td>-0.129698</td>\n",
       "      <td>0.461407</td>\n",
       "    </tr>\n",
       "    <tr>\n",
       "      <th>_craft-repair</th>\n",
       "      <td>0.226641</td>\n",
       "      <td>4099</td>\n",
       "      <td>-0.014169</td>\n",
       "      <td>0.941161</td>\n",
       "    </tr>\n",
       "    <tr>\n",
       "      <th>_exec-managerial</th>\n",
       "      <td>0.484014</td>\n",
       "      <td>4066</td>\n",
       "      <td>0.243204</td>\n",
       "      <td>2.009944</td>\n",
       "    </tr>\n",
       "    <tr>\n",
       "      <th>_farming-fishing</th>\n",
       "      <td>0.115694</td>\n",
       "      <td>994</td>\n",
       "      <td>-0.125115</td>\n",
       "      <td>0.480438</td>\n",
       "    </tr>\n",
       "    <tr>\n",
       "      <th>_handlers-cleaners</th>\n",
       "      <td>0.062774</td>\n",
       "      <td>1370</td>\n",
       "      <td>-0.178036</td>\n",
       "      <td>0.260678</td>\n",
       "    </tr>\n",
       "    <tr>\n",
       "      <th>_machine-op-inspct</th>\n",
       "      <td>0.124875</td>\n",
       "      <td>2002</td>\n",
       "      <td>-0.115934</td>\n",
       "      <td>0.518564</td>\n",
       "    </tr>\n",
       "    <tr>\n",
       "      <th>_other-service</th>\n",
       "      <td>0.041578</td>\n",
       "      <td>3295</td>\n",
       "      <td>-0.199231</td>\n",
       "      <td>0.172660</td>\n",
       "    </tr>\n",
       "    <tr>\n",
       "      <th>_priv-house-serv</th>\n",
       "      <td>0.006711</td>\n",
       "      <td>149</td>\n",
       "      <td>-0.234098</td>\n",
       "      <td>0.027870</td>\n",
       "    </tr>\n",
       "    <tr>\n",
       "      <th>_prof-specialty</th>\n",
       "      <td>0.449034</td>\n",
       "      <td>4140</td>\n",
       "      <td>0.208224</td>\n",
       "      <td>1.864684</td>\n",
       "    </tr>\n",
       "    <tr>\n",
       "      <th>_protective-serv</th>\n",
       "      <td>0.325116</td>\n",
       "      <td>649</td>\n",
       "      <td>0.084306</td>\n",
       "      <td>1.350094</td>\n",
       "    </tr>\n",
       "    <tr>\n",
       "      <th>_sales</th>\n",
       "      <td>0.269315</td>\n",
       "      <td>3650</td>\n",
       "      <td>0.028506</td>\n",
       "      <td>1.118374</td>\n",
       "    </tr>\n",
       "    <tr>\n",
       "      <th>_tech-support</th>\n",
       "      <td>0.304957</td>\n",
       "      <td>928</td>\n",
       "      <td>0.064147</td>\n",
       "      <td>1.266382</td>\n",
       "    </tr>\n",
       "    <tr>\n",
       "      <th>_transport-moving</th>\n",
       "      <td>0.200376</td>\n",
       "      <td>1597</td>\n",
       "      <td>-0.040434</td>\n",
       "      <td>0.832092</td>\n",
       "    </tr>\n",
       "  </tbody>\n",
       "</table>\n",
       "</div>"
      ],
      "text/plain": [
       "                        mean  count  high_income_probability_difference  \\\n",
       "occupation                                                                \n",
       "_?                  0.103635   1843                           -0.137174   \n",
       "_adm-clerical       0.134483   3770                           -0.106327   \n",
       "_armed-forces       0.111111      9                           -0.129698   \n",
       "_craft-repair       0.226641   4099                           -0.014169   \n",
       "_exec-managerial    0.484014   4066                            0.243204   \n",
       "_farming-fishing    0.115694    994                           -0.125115   \n",
       "_handlers-cleaners  0.062774   1370                           -0.178036   \n",
       "_machine-op-inspct  0.124875   2002                           -0.115934   \n",
       "_other-service      0.041578   3295                           -0.199231   \n",
       "_priv-house-serv    0.006711    149                           -0.234098   \n",
       "_prof-specialty     0.449034   4140                            0.208224   \n",
       "_protective-serv    0.325116    649                            0.084306   \n",
       "_sales              0.269315   3650                            0.028506   \n",
       "_tech-support       0.304957    928                            0.064147   \n",
       "_transport-moving   0.200376   1597                           -0.040434   \n",
       "\n",
       "                    high_income_probability_ratio  \n",
       "occupation                                         \n",
       "_?                                       0.430362  \n",
       "_adm-clerical                            0.558461  \n",
       "_armed-forces                            0.461407  \n",
       "_craft-repair                            0.941161  \n",
       "_exec-managerial                         2.009944  \n",
       "_farming-fishing                         0.480438  \n",
       "_handlers-cleaners                       0.260678  \n",
       "_machine-op-inspct                       0.518564  \n",
       "_other-service                           0.172660  \n",
       "_priv-house-serv                         0.027870  \n",
       "_prof-specialty                          1.864684  \n",
       "_protective-serv                         1.350094  \n",
       "_sales                                   1.118374  \n",
       "_tech-support                            1.266382  \n",
       "_transport-moving                        0.832092  "
      ]
     },
     "metadata": {},
     "output_type": "display_data"
    },
    {
     "name": "stdout",
     "output_type": "stream",
     "text": [
      "\n",
      "\n",
      "relationship\n"
     ]
    },
    {
     "data": {
      "text/html": [
       "<div>\n",
       "<style scoped>\n",
       "    .dataframe tbody tr th:only-of-type {\n",
       "        vertical-align: middle;\n",
       "    }\n",
       "\n",
       "    .dataframe tbody tr th {\n",
       "        vertical-align: top;\n",
       "    }\n",
       "\n",
       "    .dataframe thead th {\n",
       "        text-align: right;\n",
       "    }\n",
       "</style>\n",
       "<table border=\"1\" class=\"dataframe\">\n",
       "  <thead>\n",
       "    <tr style=\"text-align: right;\">\n",
       "      <th></th>\n",
       "      <th>mean</th>\n",
       "      <th>count</th>\n",
       "      <th>high_income_probability_difference</th>\n",
       "      <th>high_income_probability_ratio</th>\n",
       "    </tr>\n",
       "    <tr>\n",
       "      <th>relationship</th>\n",
       "      <th></th>\n",
       "      <th></th>\n",
       "      <th></th>\n",
       "      <th></th>\n",
       "    </tr>\n",
       "  </thead>\n",
       "  <tbody>\n",
       "    <tr>\n",
       "      <th>_husband</th>\n",
       "      <td>0.448571</td>\n",
       "      <td>13193</td>\n",
       "      <td>0.207762</td>\n",
       "      <td>1.862763</td>\n",
       "    </tr>\n",
       "    <tr>\n",
       "      <th>_not-in-family</th>\n",
       "      <td>0.103070</td>\n",
       "      <td>8305</td>\n",
       "      <td>-0.137739</td>\n",
       "      <td>0.428016</td>\n",
       "    </tr>\n",
       "    <tr>\n",
       "      <th>_other-relative</th>\n",
       "      <td>0.037717</td>\n",
       "      <td>981</td>\n",
       "      <td>-0.203093</td>\n",
       "      <td>0.156624</td>\n",
       "    </tr>\n",
       "    <tr>\n",
       "      <th>_own-child</th>\n",
       "      <td>0.013220</td>\n",
       "      <td>5068</td>\n",
       "      <td>-0.227589</td>\n",
       "      <td>0.054899</td>\n",
       "    </tr>\n",
       "    <tr>\n",
       "      <th>_unmarried</th>\n",
       "      <td>0.063262</td>\n",
       "      <td>3446</td>\n",
       "      <td>-0.177548</td>\n",
       "      <td>0.262704</td>\n",
       "    </tr>\n",
       "    <tr>\n",
       "      <th>_wife</th>\n",
       "      <td>0.475128</td>\n",
       "      <td>1568</td>\n",
       "      <td>0.234318</td>\n",
       "      <td>1.973043</td>\n",
       "    </tr>\n",
       "  </tbody>\n",
       "</table>\n",
       "</div>"
      ],
      "text/plain": [
       "                     mean  count  high_income_probability_difference  \\\n",
       "relationship                                                           \n",
       "_husband         0.448571  13193                            0.207762   \n",
       "_not-in-family   0.103070   8305                           -0.137739   \n",
       "_other-relative  0.037717    981                           -0.203093   \n",
       "_own-child       0.013220   5068                           -0.227589   \n",
       "_unmarried       0.063262   3446                           -0.177548   \n",
       "_wife            0.475128   1568                            0.234318   \n",
       "\n",
       "                 high_income_probability_ratio  \n",
       "relationship                                    \n",
       "_husband                              1.862763  \n",
       "_not-in-family                        0.428016  \n",
       "_other-relative                       0.156624  \n",
       "_own-child                            0.054899  \n",
       "_unmarried                            0.262704  \n",
       "_wife                                 1.973043  "
      ]
     },
     "metadata": {},
     "output_type": "display_data"
    },
    {
     "name": "stdout",
     "output_type": "stream",
     "text": [
      "\n",
      "\n",
      "race\n"
     ]
    },
    {
     "data": {
      "text/html": [
       "<div>\n",
       "<style scoped>\n",
       "    .dataframe tbody tr th:only-of-type {\n",
       "        vertical-align: middle;\n",
       "    }\n",
       "\n",
       "    .dataframe tbody tr th {\n",
       "        vertical-align: top;\n",
       "    }\n",
       "\n",
       "    .dataframe thead th {\n",
       "        text-align: right;\n",
       "    }\n",
       "</style>\n",
       "<table border=\"1\" class=\"dataframe\">\n",
       "  <thead>\n",
       "    <tr style=\"text-align: right;\">\n",
       "      <th></th>\n",
       "      <th>mean</th>\n",
       "      <th>count</th>\n",
       "      <th>high_income_probability_difference</th>\n",
       "      <th>high_income_probability_ratio</th>\n",
       "    </tr>\n",
       "    <tr>\n",
       "      <th>race</th>\n",
       "      <th></th>\n",
       "      <th></th>\n",
       "      <th></th>\n",
       "      <th></th>\n",
       "    </tr>\n",
       "  </thead>\n",
       "  <tbody>\n",
       "    <tr>\n",
       "      <th>_amer-indian-eskimo</th>\n",
       "      <td>0.115756</td>\n",
       "      <td>311</td>\n",
       "      <td>-0.125054</td>\n",
       "      <td>0.480694</td>\n",
       "    </tr>\n",
       "    <tr>\n",
       "      <th>_asian-pac-islander</th>\n",
       "      <td>0.265640</td>\n",
       "      <td>1039</td>\n",
       "      <td>0.024830</td>\n",
       "      <td>1.103113</td>\n",
       "    </tr>\n",
       "    <tr>\n",
       "      <th>_black</th>\n",
       "      <td>0.123880</td>\n",
       "      <td>3124</td>\n",
       "      <td>-0.116930</td>\n",
       "      <td>0.514430</td>\n",
       "    </tr>\n",
       "    <tr>\n",
       "      <th>_other</th>\n",
       "      <td>0.092251</td>\n",
       "      <td>271</td>\n",
       "      <td>-0.148559</td>\n",
       "      <td>0.383087</td>\n",
       "    </tr>\n",
       "    <tr>\n",
       "      <th>_white</th>\n",
       "      <td>0.255860</td>\n",
       "      <td>27816</td>\n",
       "      <td>0.015050</td>\n",
       "      <td>1.062499</td>\n",
       "    </tr>\n",
       "  </tbody>\n",
       "</table>\n",
       "</div>"
      ],
      "text/plain": [
       "                         mean  count  high_income_probability_difference  \\\n",
       "race                                                                       \n",
       "_amer-indian-eskimo  0.115756    311                           -0.125054   \n",
       "_asian-pac-islander  0.265640   1039                            0.024830   \n",
       "_black               0.123880   3124                           -0.116930   \n",
       "_other               0.092251    271                           -0.148559   \n",
       "_white               0.255860  27816                            0.015050   \n",
       "\n",
       "                     high_income_probability_ratio  \n",
       "race                                                \n",
       "_amer-indian-eskimo                       0.480694  \n",
       "_asian-pac-islander                       1.103113  \n",
       "_black                                    0.514430  \n",
       "_other                                    0.383087  \n",
       "_white                                    1.062499  "
      ]
     },
     "metadata": {},
     "output_type": "display_data"
    },
    {
     "name": "stdout",
     "output_type": "stream",
     "text": [
      "\n",
      "\n",
      "sex\n"
     ]
    },
    {
     "data": {
      "text/html": [
       "<div>\n",
       "<style scoped>\n",
       "    .dataframe tbody tr th:only-of-type {\n",
       "        vertical-align: middle;\n",
       "    }\n",
       "\n",
       "    .dataframe tbody tr th {\n",
       "        vertical-align: top;\n",
       "    }\n",
       "\n",
       "    .dataframe thead th {\n",
       "        text-align: right;\n",
       "    }\n",
       "</style>\n",
       "<table border=\"1\" class=\"dataframe\">\n",
       "  <thead>\n",
       "    <tr style=\"text-align: right;\">\n",
       "      <th></th>\n",
       "      <th>mean</th>\n",
       "      <th>count</th>\n",
       "      <th>high_income_probability_difference</th>\n",
       "      <th>high_income_probability_ratio</th>\n",
       "    </tr>\n",
       "    <tr>\n",
       "      <th>sex</th>\n",
       "      <th></th>\n",
       "      <th></th>\n",
       "      <th></th>\n",
       "      <th></th>\n",
       "    </tr>\n",
       "  </thead>\n",
       "  <tbody>\n",
       "    <tr>\n",
       "      <th>_female</th>\n",
       "      <td>0.109461</td>\n",
       "      <td>10771</td>\n",
       "      <td>-0.131349</td>\n",
       "      <td>0.454553</td>\n",
       "    </tr>\n",
       "    <tr>\n",
       "      <th>_male</th>\n",
       "      <td>0.305737</td>\n",
       "      <td>21790</td>\n",
       "      <td>0.064927</td>\n",
       "      <td>1.269620</td>\n",
       "    </tr>\n",
       "  </tbody>\n",
       "</table>\n",
       "</div>"
      ],
      "text/plain": [
       "             mean  count  high_income_probability_difference  \\\n",
       "sex                                                            \n",
       "_female  0.109461  10771                           -0.131349   \n",
       "_male    0.305737  21790                            0.064927   \n",
       "\n",
       "         high_income_probability_ratio  \n",
       "sex                                     \n",
       "_female                       0.454553  \n",
       "_male                         1.269620  "
      ]
     },
     "metadata": {},
     "output_type": "display_data"
    },
    {
     "name": "stdout",
     "output_type": "stream",
     "text": [
      "\n",
      "\n",
      "native country\n"
     ]
    },
    {
     "data": {
      "text/html": [
       "<div>\n",
       "<style scoped>\n",
       "    .dataframe tbody tr th:only-of-type {\n",
       "        vertical-align: middle;\n",
       "    }\n",
       "\n",
       "    .dataframe tbody tr th {\n",
       "        vertical-align: top;\n",
       "    }\n",
       "\n",
       "    .dataframe thead th {\n",
       "        text-align: right;\n",
       "    }\n",
       "</style>\n",
       "<table border=\"1\" class=\"dataframe\">\n",
       "  <thead>\n",
       "    <tr style=\"text-align: right;\">\n",
       "      <th></th>\n",
       "      <th>mean</th>\n",
       "      <th>count</th>\n",
       "      <th>high_income_probability_difference</th>\n",
       "      <th>high_income_probability_ratio</th>\n",
       "    </tr>\n",
       "    <tr>\n",
       "      <th>native country</th>\n",
       "      <th></th>\n",
       "      <th></th>\n",
       "      <th></th>\n",
       "      <th></th>\n",
       "    </tr>\n",
       "  </thead>\n",
       "  <tbody>\n",
       "    <tr>\n",
       "      <th>_?</th>\n",
       "      <td>0.250429</td>\n",
       "      <td>583</td>\n",
       "      <td>0.009619</td>\n",
       "      <td>1.039946</td>\n",
       "    </tr>\n",
       "    <tr>\n",
       "      <th>_cambodia</th>\n",
       "      <td>0.368421</td>\n",
       "      <td>19</td>\n",
       "      <td>0.127611</td>\n",
       "      <td>1.529927</td>\n",
       "    </tr>\n",
       "    <tr>\n",
       "      <th>_canada</th>\n",
       "      <td>0.322314</td>\n",
       "      <td>121</td>\n",
       "      <td>0.081504</td>\n",
       "      <td>1.338460</td>\n",
       "    </tr>\n",
       "    <tr>\n",
       "      <th>_china</th>\n",
       "      <td>0.266667</td>\n",
       "      <td>75</td>\n",
       "      <td>0.025857</td>\n",
       "      <td>1.107376</td>\n",
       "    </tr>\n",
       "    <tr>\n",
       "      <th>_columbia</th>\n",
       "      <td>0.033898</td>\n",
       "      <td>59</td>\n",
       "      <td>-0.206911</td>\n",
       "      <td>0.140768</td>\n",
       "    </tr>\n",
       "    <tr>\n",
       "      <th>_cuba</th>\n",
       "      <td>0.263158</td>\n",
       "      <td>95</td>\n",
       "      <td>0.022348</td>\n",
       "      <td>1.092805</td>\n",
       "    </tr>\n",
       "    <tr>\n",
       "      <th>_dominican-republic</th>\n",
       "      <td>0.028571</td>\n",
       "      <td>70</td>\n",
       "      <td>-0.212238</td>\n",
       "      <td>0.118647</td>\n",
       "    </tr>\n",
       "    <tr>\n",
       "      <th>_ecuador</th>\n",
       "      <td>0.142857</td>\n",
       "      <td>28</td>\n",
       "      <td>-0.097952</td>\n",
       "      <td>0.593237</td>\n",
       "    </tr>\n",
       "    <tr>\n",
       "      <th>_el-salvador</th>\n",
       "      <td>0.084906</td>\n",
       "      <td>106</td>\n",
       "      <td>-0.155904</td>\n",
       "      <td>0.352584</td>\n",
       "    </tr>\n",
       "    <tr>\n",
       "      <th>_england</th>\n",
       "      <td>0.333333</td>\n",
       "      <td>90</td>\n",
       "      <td>0.092524</td>\n",
       "      <td>1.384220</td>\n",
       "    </tr>\n",
       "    <tr>\n",
       "      <th>_france</th>\n",
       "      <td>0.413793</td>\n",
       "      <td>29</td>\n",
       "      <td>0.172984</td>\n",
       "      <td>1.718342</td>\n",
       "    </tr>\n",
       "    <tr>\n",
       "      <th>_germany</th>\n",
       "      <td>0.321168</td>\n",
       "      <td>137</td>\n",
       "      <td>0.080358</td>\n",
       "      <td>1.333701</td>\n",
       "    </tr>\n",
       "    <tr>\n",
       "      <th>_greece</th>\n",
       "      <td>0.275862</td>\n",
       "      <td>29</td>\n",
       "      <td>0.035053</td>\n",
       "      <td>1.145561</td>\n",
       "    </tr>\n",
       "    <tr>\n",
       "      <th>_guatemala</th>\n",
       "      <td>0.046875</td>\n",
       "      <td>64</td>\n",
       "      <td>-0.193935</td>\n",
       "      <td>0.194656</td>\n",
       "    </tr>\n",
       "    <tr>\n",
       "      <th>_haiti</th>\n",
       "      <td>0.090909</td>\n",
       "      <td>44</td>\n",
       "      <td>-0.149900</td>\n",
       "      <td>0.377514</td>\n",
       "    </tr>\n",
       "    <tr>\n",
       "      <th>_holand-netherlands</th>\n",
       "      <td>0.000000</td>\n",
       "      <td>1</td>\n",
       "      <td>-0.240810</td>\n",
       "      <td>0.000000</td>\n",
       "    </tr>\n",
       "    <tr>\n",
       "      <th>_honduras</th>\n",
       "      <td>0.076923</td>\n",
       "      <td>13</td>\n",
       "      <td>-0.163886</td>\n",
       "      <td>0.319435</td>\n",
       "    </tr>\n",
       "    <tr>\n",
       "      <th>_hong</th>\n",
       "      <td>0.300000</td>\n",
       "      <td>20</td>\n",
       "      <td>0.059190</td>\n",
       "      <td>1.245798</td>\n",
       "    </tr>\n",
       "    <tr>\n",
       "      <th>_hungary</th>\n",
       "      <td>0.230769</td>\n",
       "      <td>13</td>\n",
       "      <td>-0.010040</td>\n",
       "      <td>0.958306</td>\n",
       "    </tr>\n",
       "    <tr>\n",
       "      <th>_india</th>\n",
       "      <td>0.400000</td>\n",
       "      <td>100</td>\n",
       "      <td>0.159190</td>\n",
       "      <td>1.661064</td>\n",
       "    </tr>\n",
       "    <tr>\n",
       "      <th>_iran</th>\n",
       "      <td>0.418605</td>\n",
       "      <td>43</td>\n",
       "      <td>0.177795</td>\n",
       "      <td>1.738322</td>\n",
       "    </tr>\n",
       "    <tr>\n",
       "      <th>_ireland</th>\n",
       "      <td>0.208333</td>\n",
       "      <td>24</td>\n",
       "      <td>-0.032476</td>\n",
       "      <td>0.865137</td>\n",
       "    </tr>\n",
       "    <tr>\n",
       "      <th>_italy</th>\n",
       "      <td>0.342466</td>\n",
       "      <td>73</td>\n",
       "      <td>0.101656</td>\n",
       "      <td>1.422144</td>\n",
       "    </tr>\n",
       "    <tr>\n",
       "      <th>_jamaica</th>\n",
       "      <td>0.123457</td>\n",
       "      <td>81</td>\n",
       "      <td>-0.117353</td>\n",
       "      <td>0.512674</td>\n",
       "    </tr>\n",
       "    <tr>\n",
       "      <th>_japan</th>\n",
       "      <td>0.387097</td>\n",
       "      <td>62</td>\n",
       "      <td>0.146287</td>\n",
       "      <td>1.607481</td>\n",
       "    </tr>\n",
       "    <tr>\n",
       "      <th>_laos</th>\n",
       "      <td>0.111111</td>\n",
       "      <td>18</td>\n",
       "      <td>-0.129698</td>\n",
       "      <td>0.461407</td>\n",
       "    </tr>\n",
       "    <tr>\n",
       "      <th>_mexico</th>\n",
       "      <td>0.051322</td>\n",
       "      <td>643</td>\n",
       "      <td>-0.189488</td>\n",
       "      <td>0.213122</td>\n",
       "    </tr>\n",
       "    <tr>\n",
       "      <th>_nicaragua</th>\n",
       "      <td>0.058824</td>\n",
       "      <td>34</td>\n",
       "      <td>-0.181986</td>\n",
       "      <td>0.244274</td>\n",
       "    </tr>\n",
       "    <tr>\n",
       "      <th>_outlying-us(guam-usvi-etc)</th>\n",
       "      <td>0.000000</td>\n",
       "      <td>14</td>\n",
       "      <td>-0.240810</td>\n",
       "      <td>0.000000</td>\n",
       "    </tr>\n",
       "    <tr>\n",
       "      <th>_peru</th>\n",
       "      <td>0.064516</td>\n",
       "      <td>31</td>\n",
       "      <td>-0.176293</td>\n",
       "      <td>0.267913</td>\n",
       "    </tr>\n",
       "    <tr>\n",
       "      <th>_philippines</th>\n",
       "      <td>0.308081</td>\n",
       "      <td>198</td>\n",
       "      <td>0.067271</td>\n",
       "      <td>1.279355</td>\n",
       "    </tr>\n",
       "    <tr>\n",
       "      <th>_poland</th>\n",
       "      <td>0.200000</td>\n",
       "      <td>60</td>\n",
       "      <td>-0.040810</td>\n",
       "      <td>0.830532</td>\n",
       "    </tr>\n",
       "    <tr>\n",
       "      <th>_portugal</th>\n",
       "      <td>0.108108</td>\n",
       "      <td>37</td>\n",
       "      <td>-0.132701</td>\n",
       "      <td>0.448936</td>\n",
       "    </tr>\n",
       "    <tr>\n",
       "      <th>_puerto-rico</th>\n",
       "      <td>0.105263</td>\n",
       "      <td>114</td>\n",
       "      <td>-0.135546</td>\n",
       "      <td>0.437122</td>\n",
       "    </tr>\n",
       "    <tr>\n",
       "      <th>_scotland</th>\n",
       "      <td>0.250000</td>\n",
       "      <td>12</td>\n",
       "      <td>0.009190</td>\n",
       "      <td>1.038165</td>\n",
       "    </tr>\n",
       "    <tr>\n",
       "      <th>_south</th>\n",
       "      <td>0.200000</td>\n",
       "      <td>80</td>\n",
       "      <td>-0.040810</td>\n",
       "      <td>0.830532</td>\n",
       "    </tr>\n",
       "    <tr>\n",
       "      <th>_taiwan</th>\n",
       "      <td>0.392157</td>\n",
       "      <td>51</td>\n",
       "      <td>0.151347</td>\n",
       "      <td>1.628494</td>\n",
       "    </tr>\n",
       "    <tr>\n",
       "      <th>_thailand</th>\n",
       "      <td>0.166667</td>\n",
       "      <td>18</td>\n",
       "      <td>-0.074143</td>\n",
       "      <td>0.692110</td>\n",
       "    </tr>\n",
       "    <tr>\n",
       "      <th>_trinadad&amp;tobago</th>\n",
       "      <td>0.105263</td>\n",
       "      <td>19</td>\n",
       "      <td>-0.135546</td>\n",
       "      <td>0.437122</td>\n",
       "    </tr>\n",
       "    <tr>\n",
       "      <th>_united-states</th>\n",
       "      <td>0.245835</td>\n",
       "      <td>29170</td>\n",
       "      <td>0.005025</td>\n",
       "      <td>1.020868</td>\n",
       "    </tr>\n",
       "    <tr>\n",
       "      <th>_vietnam</th>\n",
       "      <td>0.074627</td>\n",
       "      <td>67</td>\n",
       "      <td>-0.166183</td>\n",
       "      <td>0.309900</td>\n",
       "    </tr>\n",
       "    <tr>\n",
       "      <th>_yugoslavia</th>\n",
       "      <td>0.375000</td>\n",
       "      <td>16</td>\n",
       "      <td>0.134190</td>\n",
       "      <td>1.557247</td>\n",
       "    </tr>\n",
       "  </tbody>\n",
       "</table>\n",
       "</div>"
      ],
      "text/plain": [
       "                                 mean  count  \\\n",
       "native country                                 \n",
       "_?                           0.250429    583   \n",
       "_cambodia                    0.368421     19   \n",
       "_canada                      0.322314    121   \n",
       "_china                       0.266667     75   \n",
       "_columbia                    0.033898     59   \n",
       "_cuba                        0.263158     95   \n",
       "_dominican-republic          0.028571     70   \n",
       "_ecuador                     0.142857     28   \n",
       "_el-salvador                 0.084906    106   \n",
       "_england                     0.333333     90   \n",
       "_france                      0.413793     29   \n",
       "_germany                     0.321168    137   \n",
       "_greece                      0.275862     29   \n",
       "_guatemala                   0.046875     64   \n",
       "_haiti                       0.090909     44   \n",
       "_holand-netherlands          0.000000      1   \n",
       "_honduras                    0.076923     13   \n",
       "_hong                        0.300000     20   \n",
       "_hungary                     0.230769     13   \n",
       "_india                       0.400000    100   \n",
       "_iran                        0.418605     43   \n",
       "_ireland                     0.208333     24   \n",
       "_italy                       0.342466     73   \n",
       "_jamaica                     0.123457     81   \n",
       "_japan                       0.387097     62   \n",
       "_laos                        0.111111     18   \n",
       "_mexico                      0.051322    643   \n",
       "_nicaragua                   0.058824     34   \n",
       "_outlying-us(guam-usvi-etc)  0.000000     14   \n",
       "_peru                        0.064516     31   \n",
       "_philippines                 0.308081    198   \n",
       "_poland                      0.200000     60   \n",
       "_portugal                    0.108108     37   \n",
       "_puerto-rico                 0.105263    114   \n",
       "_scotland                    0.250000     12   \n",
       "_south                       0.200000     80   \n",
       "_taiwan                      0.392157     51   \n",
       "_thailand                    0.166667     18   \n",
       "_trinadad&tobago             0.105263     19   \n",
       "_united-states               0.245835  29170   \n",
       "_vietnam                     0.074627     67   \n",
       "_yugoslavia                  0.375000     16   \n",
       "\n",
       "                             high_income_probability_difference  \\\n",
       "native country                                                    \n",
       "_?                                                     0.009619   \n",
       "_cambodia                                              0.127611   \n",
       "_canada                                                0.081504   \n",
       "_china                                                 0.025857   \n",
       "_columbia                                             -0.206911   \n",
       "_cuba                                                  0.022348   \n",
       "_dominican-republic                                   -0.212238   \n",
       "_ecuador                                              -0.097952   \n",
       "_el-salvador                                          -0.155904   \n",
       "_england                                               0.092524   \n",
       "_france                                                0.172984   \n",
       "_germany                                               0.080358   \n",
       "_greece                                                0.035053   \n",
       "_guatemala                                            -0.193935   \n",
       "_haiti                                                -0.149900   \n",
       "_holand-netherlands                                   -0.240810   \n",
       "_honduras                                             -0.163886   \n",
       "_hong                                                  0.059190   \n",
       "_hungary                                              -0.010040   \n",
       "_india                                                 0.159190   \n",
       "_iran                                                  0.177795   \n",
       "_ireland                                              -0.032476   \n",
       "_italy                                                 0.101656   \n",
       "_jamaica                                              -0.117353   \n",
       "_japan                                                 0.146287   \n",
       "_laos                                                 -0.129698   \n",
       "_mexico                                               -0.189488   \n",
       "_nicaragua                                            -0.181986   \n",
       "_outlying-us(guam-usvi-etc)                           -0.240810   \n",
       "_peru                                                 -0.176293   \n",
       "_philippines                                           0.067271   \n",
       "_poland                                               -0.040810   \n",
       "_portugal                                             -0.132701   \n",
       "_puerto-rico                                          -0.135546   \n",
       "_scotland                                              0.009190   \n",
       "_south                                                -0.040810   \n",
       "_taiwan                                                0.151347   \n",
       "_thailand                                             -0.074143   \n",
       "_trinadad&tobago                                      -0.135546   \n",
       "_united-states                                         0.005025   \n",
       "_vietnam                                              -0.166183   \n",
       "_yugoslavia                                            0.134190   \n",
       "\n",
       "                             high_income_probability_ratio  \n",
       "native country                                              \n",
       "_?                                                1.039946  \n",
       "_cambodia                                         1.529927  \n",
       "_canada                                           1.338460  \n",
       "_china                                            1.107376  \n",
       "_columbia                                         0.140768  \n",
       "_cuba                                             1.092805  \n",
       "_dominican-republic                               0.118647  \n",
       "_ecuador                                          0.593237  \n",
       "_el-salvador                                      0.352584  \n",
       "_england                                          1.384220  \n",
       "_france                                           1.718342  \n",
       "_germany                                          1.333701  \n",
       "_greece                                           1.145561  \n",
       "_guatemala                                        0.194656  \n",
       "_haiti                                            0.377514  \n",
       "_holand-netherlands                               0.000000  \n",
       "_honduras                                         0.319435  \n",
       "_hong                                             1.245798  \n",
       "_hungary                                          0.958306  \n",
       "_india                                            1.661064  \n",
       "_iran                                             1.738322  \n",
       "_ireland                                          0.865137  \n",
       "_italy                                            1.422144  \n",
       "_jamaica                                          0.512674  \n",
       "_japan                                            1.607481  \n",
       "_laos                                             0.461407  \n",
       "_mexico                                           0.213122  \n",
       "_nicaragua                                        0.244274  \n",
       "_outlying-us(guam-usvi-etc)                       0.000000  \n",
       "_peru                                             0.267913  \n",
       "_philippines                                      1.279355  \n",
       "_poland                                           0.830532  \n",
       "_portugal                                         0.448936  \n",
       "_puerto-rico                                      0.437122  \n",
       "_scotland                                         1.038165  \n",
       "_south                                            0.830532  \n",
       "_taiwan                                           1.628494  \n",
       "_thailand                                         0.692110  \n",
       "_trinadad&tobago                                  0.437122  \n",
       "_united-states                                    1.020868  \n",
       "_vietnam                                          0.309900  \n",
       "_yugoslavia                                       1.557247  "
      ]
     },
     "metadata": {},
     "output_type": "display_data"
    },
    {
     "name": "stdout",
     "output_type": "stream",
     "text": [
      "\n",
      "\n"
     ]
    }
   ],
   "source": [
    "for c in categorical:\n",
    "    print(c)\n",
    "    df_group = df_full_train.groupby(c).income_over_50k.agg(['mean', 'count'])\n",
    "    df_group['high_income_probability_difference'] = df_group['mean'] - global_high_income_rate\n",
    "    df_group['high_income_probability_ratio'] = df_group['mean'] / global_high_income_rate\n",
    "    display(df_group)\n",
    "    print()\n",
    "    print()"
   ]
  },
  {
   "cell_type": "code",
   "execution_count": 28,
   "id": "b05db337",
   "metadata": {},
   "outputs": [
    {
     "name": "stdout",
     "output_type": "stream",
     "text": [
      "workclass\n",
      "0.014952286926024641\n",
      "\n",
      "education\n",
      "0.064872227626807\n",
      "\n",
      "marital-status\n",
      "0.10849684839091919\n",
      "\n",
      "occupation\n",
      "0.06440895776401497\n",
      "\n",
      "relationship\n",
      "0.11462280890861032\n",
      "\n",
      "race\n",
      "0.005807149876488754\n",
      "\n",
      "sex\n",
      "0.025765242400373284\n",
      "\n",
      "native country\n",
      "0.006027151805763077\n",
      "\n"
     ]
    }
   ],
   "source": [
    "for  c in categorical:\n",
    "    print (c)\n",
    "    print(mutual_info_score(df_full_train[c], df_full_train['income_over_50k']))\n",
    "    print()"
   ]
  },
  {
   "cell_type": "code",
   "execution_count": 29,
   "id": "0f2916bd",
   "metadata": {},
   "outputs": [
    {
     "data": {
      "text/plain": [
       "age               0.234037\n",
       "fnlwgt            0.009463\n",
       "education-num     0.335154\n",
       "capital-gain      0.223329\n",
       "capital-loss      0.150526\n",
       "hours-per-week    0.229689\n",
       "dtype: float64"
      ]
     },
     "execution_count": 29,
     "metadata": {},
     "output_type": "execute_result"
    }
   ],
   "source": [
    "df_full_train[numerical].corrwith(df_full_train.income_over_50k).abs()"
   ]
  },
  {
   "cell_type": "markdown",
   "id": "1ceb188b",
   "metadata": {},
   "source": [
    "## 5) One-hot encoding"
   ]
  },
  {
   "cell_type": "code",
   "execution_count": 47,
   "id": "7dac1e8d",
   "metadata": {},
   "outputs": [],
   "source": [
    "dv = DictVectorizer(sparse=False)\n",
    "\n",
    "train_dict = df_train[categorical + numerical].to_dict(orient='records')\n",
    "X_train = dv.fit_transform(train_dict)\n",
    "\n",
    "val_dict = df_val[categorical + numerical].to_dict(orient='records')\n",
    "X_val = dv.transform(val_dict)\n",
    "\n",
    "test_dict = df_test[categorical + numerical].to_dict(orient='records')\n",
    "X_test = dv.transform(test_dict)"
   ]
  },
  {
   "cell_type": "markdown",
   "id": "baf9bb66",
   "metadata": {},
   "source": [
    "## 6) Baseline"
   ]
  },
  {
   "cell_type": "code",
   "execution_count": 48,
   "id": "1fd9ed86",
   "metadata": {},
   "outputs": [
    {
     "data": {
      "text/plain": [
       "(32561, 8140, 8141)"
      ]
     },
     "execution_count": 48,
     "metadata": {},
     "output_type": "execute_result"
    }
   ],
   "source": [
    "len(y_train), len(y_val), len(y_test)"
   ]
  },
  {
   "cell_type": "code",
   "execution_count": 49,
   "id": "fd9a092c",
   "metadata": {},
   "outputs": [],
   "source": [
    "y_pred_baseline = np.zeros(8140)"
   ]
  },
  {
   "cell_type": "code",
   "execution_count": 50,
   "id": "027779d6",
   "metadata": {},
   "outputs": [
    {
     "data": {
      "text/plain": [
       "0.5"
      ]
     },
     "execution_count": 50,
     "metadata": {},
     "output_type": "execute_result"
    }
   ],
   "source": [
    "roc_auc_score(y_val, y_pred_baseline)"
   ]
  },
  {
   "cell_type": "markdown",
   "id": "33904344",
   "metadata": {},
   "source": [
    "## 6) Logistic regression"
   ]
  },
  {
   "cell_type": "code",
   "execution_count": 51,
   "id": "180a27a1",
   "metadata": {},
   "outputs": [
    {
     "data": {
      "text/plain": [
       "LogisticRegression()"
      ]
     },
     "execution_count": 51,
     "metadata": {},
     "output_type": "execute_result"
    }
   ],
   "source": [
    "model = LogisticRegression()\n",
    "model.fit(X_train, y_train)"
   ]
  },
  {
   "cell_type": "code",
   "execution_count": 52,
   "id": "96c85a3b",
   "metadata": {},
   "outputs": [],
   "source": [
    "y_pred = model.predict(X_val)\n",
    "y_test_pred = model.predict(X_test)"
   ]
  },
  {
   "cell_type": "code",
   "execution_count": 53,
   "id": "ce6fd117",
   "metadata": {},
   "outputs": [
    {
     "data": {
      "text/plain": [
       "(0.6133603269701364, 0.6107273002398783)"
      ]
     },
     "execution_count": 53,
     "metadata": {},
     "output_type": "execute_result"
    }
   ],
   "source": [
    "roc_auc_score(y_val, y_pred), roc_auc_score(y_test, y_test_pred)"
   ]
  },
  {
   "cell_type": "markdown",
   "id": "10d3efc6",
   "metadata": {},
   "source": [
    "## 7) Desicion tree classifier"
   ]
  },
  {
   "cell_type": "code",
   "execution_count": 88,
   "id": "0395d5a3",
   "metadata": {},
   "outputs": [
    {
     "data": {
      "text/plain": [
       "DecisionTreeClassifier()"
      ]
     },
     "execution_count": 88,
     "metadata": {},
     "output_type": "execute_result"
    }
   ],
   "source": [
    "dt = DecisionTreeClassifier()\n",
    "dt.fit(X_train, y_train)"
   ]
  },
  {
   "cell_type": "code",
   "execution_count": 92,
   "id": "5edee753",
   "metadata": {},
   "outputs": [],
   "source": [
    "y_pred = dt.predict_proba(X_val)[:, 1]\n",
    "y_test_pred = dt.predict_proba(X_test)[:, 1]"
   ]
  },
  {
   "cell_type": "code",
   "execution_count": 93,
   "id": "6873fb80",
   "metadata": {},
   "outputs": [
    {
     "data": {
      "text/plain": [
       "(0.6387368250733972, 0.6425494247798221)"
      ]
     },
     "execution_count": 93,
     "metadata": {},
     "output_type": "execute_result"
    }
   ],
   "source": [
    "roc_auc_score(y_val, y_pred), roc_auc_score(y_test, y_test_pred)"
   ]
  },
  {
   "cell_type": "code",
   "execution_count": 97,
   "id": "463f608c",
   "metadata": {},
   "outputs": [
    {
     "name": "stdout",
     "output_type": "stream",
     "text": [
      "   1 -> 0.758\n",
      "   2 -> 0.834\n",
      "   3 -> 0.820\n",
      "   4 -> 0.833\n",
      "   5 -> 0.835\n",
      "   6 -> 0.837\n",
      "  10 -> 0.779\n",
      "  15 -> 0.671\n",
      "  20 -> 0.639\n",
      "None -> 0.638\n"
     ]
    }
   ],
   "source": [
    "depths = [1, 2, 3, 4, 5, 6, 10, 15, 20, None]\n",
    "\n",
    "for depth in depths: \n",
    "    dt = DecisionTreeClassifier(max_depth=depth)\n",
    "    dt.fit(X_train, y_train)\n",
    "    \n",
    "    y_pred = dt.predict_proba(X_val)[:, 1]\n",
    "    auc = roc_auc_score(y_val, y_pred)\n",
    "    \n",
    "    print('%4s -> %.3f' % (depth, auc))"
   ]
  },
  {
   "cell_type": "code",
   "execution_count": 98,
   "id": "2eb1621d",
   "metadata": {},
   "outputs": [],
   "source": [
    "scores = []\n",
    "\n",
    "for depth in [4, 5, 6]:\n",
    "    for s in [1, 5, 10, 15, 20, 500, 100, 200]:\n",
    "        dt = DecisionTreeClassifier(max_depth=depth, min_samples_leaf=s)\n",
    "        dt.fit(X_train, y_train)\n",
    "\n",
    "        y_pred = dt.predict_proba(X_val)[:, 1]\n",
    "        auc = roc_auc_score(y_val, y_pred)\n",
    "        \n",
    "        scores.append((depth, s, auc))"
   ]
  },
  {
   "cell_type": "code",
   "execution_count": 99,
   "id": "2eddc65d",
   "metadata": {},
   "outputs": [],
   "source": [
    "columns = ['max_depth', 'min_samples_leaf', 'auc']\n",
    "df_scores = pd.DataFrame(scores, columns=columns)"
   ]
  },
  {
   "cell_type": "code",
   "execution_count": 100,
   "id": "3f2e56c3",
   "metadata": {},
   "outputs": [
    {
     "data": {
      "text/html": [
       "<div>\n",
       "<style scoped>\n",
       "    .dataframe tbody tr th:only-of-type {\n",
       "        vertical-align: middle;\n",
       "    }\n",
       "\n",
       "    .dataframe tbody tr th {\n",
       "        vertical-align: top;\n",
       "    }\n",
       "\n",
       "    .dataframe thead tr th {\n",
       "        text-align: left;\n",
       "    }\n",
       "\n",
       "    .dataframe thead tr:last-of-type th {\n",
       "        text-align: right;\n",
       "    }\n",
       "</style>\n",
       "<table border=\"1\" class=\"dataframe\">\n",
       "  <thead>\n",
       "    <tr>\n",
       "      <th></th>\n",
       "      <th colspan=\"3\" halign=\"left\">auc</th>\n",
       "    </tr>\n",
       "    <tr>\n",
       "      <th>max_depth</th>\n",
       "      <th>4</th>\n",
       "      <th>5</th>\n",
       "      <th>6</th>\n",
       "    </tr>\n",
       "    <tr>\n",
       "      <th>min_samples_leaf</th>\n",
       "      <th></th>\n",
       "      <th></th>\n",
       "      <th></th>\n",
       "    </tr>\n",
       "  </thead>\n",
       "  <tbody>\n",
       "    <tr>\n",
       "      <th>1</th>\n",
       "      <td>0.833</td>\n",
       "      <td>0.835</td>\n",
       "      <td>0.837</td>\n",
       "    </tr>\n",
       "    <tr>\n",
       "      <th>5</th>\n",
       "      <td>0.863</td>\n",
       "      <td>0.866</td>\n",
       "      <td>0.868</td>\n",
       "    </tr>\n",
       "    <tr>\n",
       "      <th>10</th>\n",
       "      <td>0.874</td>\n",
       "      <td>0.876</td>\n",
       "      <td>0.879</td>\n",
       "    </tr>\n",
       "    <tr>\n",
       "      <th>15</th>\n",
       "      <td>0.876</td>\n",
       "      <td>0.878</td>\n",
       "      <td>0.879</td>\n",
       "    </tr>\n",
       "    <tr>\n",
       "      <th>20</th>\n",
       "      <td>0.876</td>\n",
       "      <td>0.878</td>\n",
       "      <td>0.879</td>\n",
       "    </tr>\n",
       "    <tr>\n",
       "      <th>100</th>\n",
       "      <td>0.877</td>\n",
       "      <td>0.876</td>\n",
       "      <td>0.876</td>\n",
       "    </tr>\n",
       "    <tr>\n",
       "      <th>200</th>\n",
       "      <td>0.877</td>\n",
       "      <td>0.876</td>\n",
       "      <td>0.878</td>\n",
       "    </tr>\n",
       "    <tr>\n",
       "      <th>500</th>\n",
       "      <td>0.874</td>\n",
       "      <td>0.873</td>\n",
       "      <td>0.869</td>\n",
       "    </tr>\n",
       "  </tbody>\n",
       "</table>\n",
       "</div>"
      ],
      "text/plain": [
       "                    auc              \n",
       "max_depth             4      5      6\n",
       "min_samples_leaf                     \n",
       "1                 0.833  0.835  0.837\n",
       "5                 0.863  0.866  0.868\n",
       "10                0.874  0.876  0.879\n",
       "15                0.876  0.878  0.879\n",
       "20                0.876  0.878  0.879\n",
       "100               0.877  0.876  0.876\n",
       "200               0.877  0.876  0.878\n",
       "500               0.874  0.873  0.869"
      ]
     },
     "execution_count": 100,
     "metadata": {},
     "output_type": "execute_result"
    }
   ],
   "source": [
    "df_scores_pivot = df_scores.pivot(index='min_samples_leaf', columns=['max_depth'], values=['auc'])\n",
    "df_scores_pivot.round(3)"
   ]
  },
  {
   "cell_type": "code",
   "execution_count": 101,
   "id": "0dc79f31",
   "metadata": {},
   "outputs": [
    {
     "data": {
      "text/plain": [
       "<AxesSubplot:xlabel='None-max_depth', ylabel='min_samples_leaf'>"
      ]
     },
     "execution_count": 101,
     "metadata": {},
     "output_type": "execute_result"
    },
    {
     "data": {
      "image/png": "[encoded data removed]",
      "text/plain": [
       "<Figure size 432x288 with 2 Axes>"
      ]
     },
     "metadata": {
      "needs_background": "light"
     },
     "output_type": "display_data"
    }
   ],
   "source": [
    "sns.heatmap(df_scores_pivot, annot=True, fmt=\".3f\")"
   ]
  },
  {
   "cell_type": "code",
   "execution_count": 102,
   "id": "5464665c",
   "metadata": {},
   "outputs": [
    {
     "data": {
      "text/plain": [
       "DecisionTreeClassifier(max_depth=6, min_samples_leaf=20)"
      ]
     },
     "execution_count": 102,
     "metadata": {},
     "output_type": "execute_result"
    }
   ],
   "source": [
    "dt_final = DecisionTreeClassifier(max_depth=6, min_samples_leaf=20)\n",
    "dt_final.fit(X_train, y_train)"
   ]
  },
  {
   "cell_type": "code",
   "execution_count": 105,
   "id": "6547ceea",
   "metadata": {},
   "outputs": [],
   "source": [
    "y_pred = dt_final.predict_proba(X_val)[:, 1]\n",
    "y_test_pred = dt_final.predict_proba(X_test)[:, 1]"
   ]
  },
  {
   "cell_type": "code",
   "execution_count": 106,
   "id": "ca0dc919",
   "metadata": {},
   "outputs": [
    {
     "data": {
      "text/plain": [
       "(0.8791063682828067, 0.8804750517421156)"
      ]
     },
     "execution_count": 106,
     "metadata": {},
     "output_type": "execute_result"
    }
   ],
   "source": [
    "roc_auc_score(y_val, y_pred), roc_auc_score(y_test, y_test_pred)"
   ]
  },
  {
   "cell_type": "markdown",
   "id": "8e9076cd",
   "metadata": {},
   "source": [
    "## 8) Random forest classifier"
   ]
  },
  {
   "cell_type": "code",
   "execution_count": 109,
   "id": "fc086b71",
   "metadata": {},
   "outputs": [],
   "source": [
    "scores = []\n",
    "\n",
    "for n in range(10, 201, 10):\n",
    "    rf = RandomForestClassifier(n_estimators=n, random_state=1)\n",
    "    rf.fit(X_train, y_train)\n",
    "\n",
    "    y_pred = rf.predict_proba(X_val)[:, 1]\n",
    "    auc = roc_auc_score(y_val, y_pred)\n",
    "    \n",
    "    scores.append((n, auc))"
   ]
  },
  {
   "cell_type": "code",
   "execution_count": 110,
   "id": "7d089fb5",
   "metadata": {},
   "outputs": [],
   "source": [
    "df_scores = pd.DataFrame(scores, columns=['n_estimators', 'auc'])"
   ]
  },
  {
   "cell_type": "code",
   "execution_count": 111,
   "id": "3931de14",
   "metadata": {},
   "outputs": [
    {
     "data": {
      "text/plain": [
       "[<matplotlib.lines.Line2D at 0x214362e5520>]"
      ]
     },
     "execution_count": 111,
     "metadata": {},
     "output_type": "execute_result"
    },
    {
     "data": {
      "image/png": "[encoded data removed]",
      "text/plain": [
       "<Figure size 432x288 with 1 Axes>"
      ]
     },
     "metadata": {
      "needs_background": "light"
     },
     "output_type": "display_data"
    }
   ],
   "source": [
    "plt.plot(df_scores.n_estimators, df_scores.auc)"
   ]
  }
 ],
 "metadata": {
  "kernelspec": {
   "display_name": "Python 3",
   "language": "python",
   "name": "python3"
  },
  "language_info": {
   "codemirror_mode": {
    "name": "ipython",
    "version": 3
   },
   "file_extension": ".py",
   "mimetype": "text/x-python",
   "name": "python",
   "nbconvert_exporter": "python",
   "pygments_lexer": "ipython3",
   "version": "3.8.8"
  }
 },
 "nbformat": 4,
 "nbformat_minor": 5
}
